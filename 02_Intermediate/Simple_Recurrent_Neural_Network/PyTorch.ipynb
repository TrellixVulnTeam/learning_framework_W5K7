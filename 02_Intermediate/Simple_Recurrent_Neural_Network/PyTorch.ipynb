{
 "cells": [
  {
   "cell_type": "markdown",
   "metadata": {},
   "source": [
    "<td>\n",
    "    <a target=\"_blank\" href=\"https://colab.research.google.com/github/jjerry-k/learning_framework/blob/main/02_Intermediate/Simple_Recurrent_Neural_Network/PyTorch.ipynb\"><img src=\"https://www.tensorflow.org/images/colab_logo_32px.png\" />Run in Google Colab</a>\n",
    "</td>"
   ]
  },
  {
   "cell_type": "code",
   "execution_count": 1,
   "metadata": {},
   "outputs": [],
   "source": [
    "# Importing Modules\n",
    "import numpy as np\n",
    "from tqdm import tqdm\n",
    "\n",
    "import torch\n",
    "from torch import nn\n",
    "from torch import optim\n",
    "from torch.utils.data import DataLoader \n",
    "\n",
    "from torchvision import datasets\n",
    "from torchvision import transforms\n",
    "import numpy as np\n",
    "from matplotlib import pyplot as plt\n",
    "\n",
    "# Device Configuration\n",
    "device = torch.device('cuda:0' if torch.cuda.is_available() else 'cpu')"
   ]
  },
  {
   "cell_type": "code",
   "execution_count": 2,
   "metadata": {},
   "outputs": [
    {
     "name": "stdout",
     "output_type": "stream",
     "text": [
      "Downloading Train Data Done ! \n",
      "Downloading Test Data Done ! \n"
     ]
    }
   ],
   "source": [
    "# Loading Data\n",
    "# MNIST dataset\n",
    "mnist_train = datasets.MNIST(root='../../data/',\n",
    "                          train=True,\n",
    "                          transform=transforms.ToTensor(),\n",
    "                          download=True)\n",
    "print(\"Downloading Train Data Done ! \")\n",
    "\n",
    "mnist_test = datasets.MNIST(root='../../data/',\n",
    "                         train=False,\n",
    "                         transform=transforms.ToTensor(),\n",
    "                         download=True)\n",
    "print(\"Downloading Test Data Done ! \")\n",
    "\n",
    "batch_size = 256\n",
    "\n",
    "train_loader = DataLoader(mnist_train, batch_size=batch_size, shuffle=True, num_workers=2)\n",
    "val_loader = DataLoader(mnist_test, batch_size=batch_size, shuffle=False, num_workers=2)"
   ]
  },
  {
   "cell_type": "code",
   "execution_count": 3,
   "metadata": {},
   "outputs": [],
   "source": [
    "# Defining Model\n",
    "class Model(nn.Module):\n",
    "    \n",
    "    def __init__(self, input_size, hidden_size, num_layers, num_classes):\n",
    "        super(Model, self).__init__()\n",
    "        self.hidden_size = hidden_size\n",
    "        self.num_layers = num_layers\n",
    "        self.rnn = nn.RNN(input_size, hidden_size, num_layers, batch_first=True)\n",
    "        self.fc = nn.Linear(hidden_size, num_classes)\n",
    "        pass\n",
    "    \n",
    "    def forward(self, x):\n",
    "        h0 = torch.zeros(self.num_layers, x.size(0), self.hidden_size).to(device) \n",
    "\n",
    "        out, hidden = self.rnn(x, h0)  \n",
    "        \n",
    "        out = self.fc(out[:, -1, :])\n",
    "        return out\n",
    "\n",
    "model = Model(28, 128, 2, 10).to(device)\n",
    "criterion = nn.CrossEntropyLoss()\n",
    "optimizer = optim.Adam(model.parameters(), lr=0.001)"
   ]
  },
  {
   "cell_type": "code",
   "execution_count": 4,
   "metadata": {},
   "outputs": [
    {
     "name": "stderr",
     "output_type": "stream",
     "text": [
      "[1/5]: 100%|██████████| 235/235 [00:03<00:00, 63.66it/s, loss=0.532]\n",
      "[1/5]: 100%|██████████| 40/40 [00:00<00:00, 44.80it/s, val_loss=0.449]\n"
     ]
    },
    {
     "name": "stdout",
     "output_type": "stream",
     "text": [
      "Epoch : 1, Loss : 0.853, Acc: 70.843, Val Loss : 0.449, Val Acc : 84.790\n",
      "\n"
     ]
    },
    {
     "name": "stderr",
     "output_type": "stream",
     "text": [
      "[2/5]: 100%|██████████| 235/235 [00:03<00:00, 61.48it/s, loss=0.273]\n",
      "[2/5]: 100%|██████████| 40/40 [00:00<00:00, 49.44it/s, val_loss=0.265]\n"
     ]
    },
    {
     "name": "stdout",
     "output_type": "stream",
     "text": [
      "Epoch : 2, Loss : 0.323, Acc: 90.167, Val Loss : 0.265, Val Acc : 91.850\n",
      "\n"
     ]
    },
    {
     "name": "stderr",
     "output_type": "stream",
     "text": [
      "[3/5]: 100%|██████████| 235/235 [00:03<00:00, 59.86it/s, loss=0.164]\n",
      "[3/5]: 100%|██████████| 40/40 [00:00<00:00, 41.20it/s, val_loss=0.152]\n"
     ]
    },
    {
     "name": "stdout",
     "output_type": "stream",
     "text": [
      "Epoch : 3, Loss : 0.212, Acc: 93.773, Val Loss : 0.152, Val Acc : 95.620\n",
      "\n"
     ]
    },
    {
     "name": "stderr",
     "output_type": "stream",
     "text": [
      "[4/5]: 100%|██████████| 235/235 [00:03<00:00, 59.78it/s, loss=0.076]\n",
      "[4/5]: 100%|██████████| 40/40 [00:00<00:00, 44.29it/s, val_loss=0.150]\n"
     ]
    },
    {
     "name": "stdout",
     "output_type": "stream",
     "text": [
      "Epoch : 4, Loss : 0.163, Acc: 95.303, Val Loss : 0.150, Val Acc : 95.730\n",
      "\n"
     ]
    },
    {
     "name": "stderr",
     "output_type": "stream",
     "text": [
      "[5/5]: 100%|██████████| 235/235 [00:03<00:00, 62.62it/s, loss=0.237]\n",
      "[5/5]: 100%|██████████| 40/40 [00:00<00:00, 42.00it/s, val_loss=0.129]"
     ]
    },
    {
     "name": "stdout",
     "output_type": "stream",
     "text": [
      "Epoch : 5, Loss : 0.145, Acc: 95.827, Val Loss : 0.129, Val Acc : 96.310\n",
      "\n",
      "Training Done !\n"
     ]
    },
    {
     "name": "stderr",
     "output_type": "stream",
     "text": [
      "\n"
     ]
    }
   ],
   "source": [
    "epochs = 5\n",
    "\n",
    "# Training\n",
    "for epoch in range(epochs):\n",
    "    model.train()\n",
    "    avg_loss = 0\n",
    "    avg_acc = 0\n",
    "    \n",
    "    with tqdm(total=len(train_loader)) as t:\n",
    "        t.set_description(f'[{epoch+1}/{epochs}]')\n",
    "        total = 0\n",
    "        correct = 0\n",
    "        for i, (batch_img, batch_lab) in enumerate(train_loader):\n",
    "            X = batch_img.squeeze().to(device) # B, 1, 28, 28 -> B, 28, 28\n",
    "            Y = batch_lab.to(device)\n",
    "\n",
    "            optimizer.zero_grad()\n",
    "\n",
    "            y_pred = model.forward(X)\n",
    "\n",
    "            loss = criterion(y_pred, Y)\n",
    "            \n",
    "            loss.backward()\n",
    "            optimizer.step()\n",
    "            avg_loss += loss.item()\n",
    "\n",
    "            _, predicted = torch.max(y_pred.data, 1)\n",
    "            total += Y.size(0)\n",
    "            correct += (predicted == Y).sum().item()\n",
    "            \n",
    "            t.set_postfix({\"loss\": f\"{loss.item():05.3f}\"})\n",
    "            t.update()\n",
    "        acc = (100 * correct / total)\n",
    "\n",
    "    model.eval()\n",
    "    with tqdm(total=len(val_loader)) as t:\n",
    "        t.set_description(f'[{epoch+1}/{epochs}]')\n",
    "        with torch.no_grad():\n",
    "            val_loss = 0\n",
    "            total = 0\n",
    "            correct = 0\n",
    "            for i, (batch_img, batch_lab) in enumerate(val_loader):\n",
    "                X = batch_img.squeeze().to(device)\n",
    "                Y = batch_lab.to(device)\n",
    "                y_pred = model(X)\n",
    "                val_loss += criterion(y_pred, Y)\n",
    "                _, predicted = torch.max(y_pred.data, 1)\n",
    "                total += Y.size(0)\n",
    "                correct += (predicted == Y).sum().item()\n",
    "                t.set_postfix({\"val_loss\": f\"{val_loss.item()/(i+1):05.3f}\"})\n",
    "                t.update()\n",
    "\n",
    "            val_loss /= len(val_loader)\n",
    "            val_acc = (100 * correct / total)\n",
    "            \n",
    "    print(f\"Epoch : {epoch+1}, Loss : {(avg_loss/len(train_loader)):.3f}, Acc: {acc:.3f}, Val Loss : {val_loss.item():.3f}, Val Acc : {val_acc:.3f}\\n\")\n",
    "\n",
    "print(\"Training Done !\")"
   ]
  },
  {
   "cell_type": "code",
   "execution_count": 5,
   "metadata": {},
   "outputs": [
    {
     "data": {
      "image/png": "[encoded data removed]",
      "text/plain": [
       "<Figure size 720x720 with 25 Axes>"
      ]
     },
     "metadata": {
      "needs_background": "light"
     },
     "output_type": "display_data"
    }
   ],
   "source": [
    "# Sample\n",
    "num_sample = 25\n",
    "col = int(np.ceil(np.sqrt(num_sample)))\n",
    "row = int(np.ceil(num_sample/col))\n",
    "\n",
    "idx = np.random.randint(0, len(mnist_test), num_sample)\n",
    "\n",
    "sample_image = mnist_test.data[idx].type(torch.FloatTensor).to(device)/255.\n",
    "sample_label = mnist_test.targets[idx]\n",
    "prediction = torch.argmax(model(sample_image), dim=1).cpu().detach()\n",
    "\n",
    "plt.figure(figsize=(col*2, row*2))\n",
    "for i in range(num_sample):\n",
    "    plt.subplot(col, row, i+1)\n",
    "    color = \"blue\" if prediction[i] == sample_label[i] else \"red\"\n",
    "    plt.imshow(sample_image[i].cpu(), cmap='gray')\n",
    "    plt.title(f\"Label: {sample_label[i]}\\nPrediction: {prediction[i]}\", color=color, fontsize=12)\n",
    "    plt.axis(\"off\")\n",
    "plt.tight_layout()\n",
    "plt.show()"
   ]
  }
 ],
 "metadata": {
  "interpreter": {
   "hash": "e272e1fa0d2962f9b40773bcc4be9415f12c8080e9dd32a48a7e1d33b6939010"
  },
  "kernelspec": {
   "display_name": "Python 3.8.12 ('torch')",
   "language": "python",
   "name": "python3"
  },
  "language_info": {
   "codemirror_mode": {
    "name": "ipython",
    "version": 3
   },
   "file_extension": ".py",
   "mimetype": "text/x-python",
   "name": "python",
   "nbconvert_exporter": "python",
   "pygments_lexer": "ipython3",
   "version": "3.7.10"
  },
  "orig_nbformat": 4
 },
 "nbformat": 4,
 "nbformat_minor": 2
}
