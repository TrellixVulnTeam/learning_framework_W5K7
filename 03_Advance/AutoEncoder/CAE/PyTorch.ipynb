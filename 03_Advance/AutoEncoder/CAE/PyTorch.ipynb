{
 "cells": [
  {
   "cell_type": "markdown",
   "metadata": {},
   "source": [
    "<td>\n",
    "    <a target=\"_blank\" href=\"https://colab.research.google.com/github/jjerry-k/learning_framework/blob/main/03_Advance/AutoEncoder/Vanilla/PyTorch.ipynb\"><img src=\"https://www.tensorflow.org/images/colab_logo_32px.png\" />Run in Google Colab</a>\n",
    "</td>"
   ]
  },
  {
   "cell_type": "code",
   "execution_count": 1,
   "metadata": {},
   "outputs": [],
   "source": [
    "# Importing Modules\n",
    "import random\n",
    "from tqdm import tqdm\n",
    "\n",
    "import numpy as np\n",
    "\n",
    "import torch\n",
    "from torch import nn\n",
    "from torch import optim\n",
    "from torch.utils.data import DataLoader \n",
    "\n",
    "from torchvision import datasets\n",
    "from torchvision import transforms\n",
    "\n",
    "from matplotlib import pyplot as plt\n",
    "\n",
    "# Device Configuration\n",
    "device = torch.device('cuda:0' if torch.cuda.is_available() else 'cpu')\n",
    "\n",
    "# Set randomness\n",
    "seed = 777\n",
    "random.seed(seed)\n",
    "np.random.seed(seed)\n",
    "torch.manual_seed(seed)\n",
    "\n",
    "if torch.cuda.is_available():\n",
    "    torch.cuda.manual_seed(seed)\n",
    "    torch.cuda.manual_seed_all(seed) # if use multi-GPU\n",
    "    torch.backends.cudnn.deterministic = True\n",
    "    torch.backends.cudnn.benchmark = False\n",
    "\n",
    "# Set hyperparameter\n",
    "epochs= 10\n",
    "batch_size= 256"
   ]
  },
  {
   "cell_type": "code",
   "execution_count": 2,
   "metadata": {},
   "outputs": [
    {
     "name": "stdout",
     "output_type": "stream",
     "text": [
      "Downloading Train Data Done ! \n",
      "Downloading Test Data Done ! \n"
     ]
    }
   ],
   "source": [
    "# MNIST dataset\n",
    "mnist_train = datasets.MNIST(root='../../../data/',\n",
    "                            train=True,\n",
    "                            transform=transforms.ToTensor(),\n",
    "                            download=True)\n",
    "print(\"Downloading Train Data Done ! \")\n",
    "\n",
    "mnist_test = datasets.MNIST(root='../../../data/',\n",
    "                            train=False,\n",
    "                            transform=transforms.ToTensor(),\n",
    "                            download=True)\n",
    "print(\"Downloading Test Data Done ! \")\n",
    "\n",
    "train_loader = DataLoader(mnist_train, batch_size=batch_size, shuffle=True, num_workers=2)\n",
    "val_loader = DataLoader(mnist_test, batch_size=batch_size, shuffle=False, num_workers=2)"
   ]
  },
  {
   "cell_type": "code",
   "execution_count": 3,
   "metadata": {},
   "outputs": [],
   "source": [
    "# Defining Model\n",
    "class BuildCAE(nn.Module):\n",
    "    def __init__(self, input_features=1):\n",
    "        super(BuildCAE, self).__init__()\n",
    "\n",
    "        self.encoder = nn.Sequential(\n",
    "            nn.Conv2d(input_features, 16, 3, 1, 1),\n",
    "            nn.ReLU(),\n",
    "            nn.MaxPool2d(2),\n",
    "            nn.Conv2d(16, 64, 3, 1, 1),\n",
    "            nn.ReLU(),\n",
    "            nn.MaxPool2d(2)\n",
    "        )\n",
    "\n",
    "        self.decoder = nn.Sequential(\n",
    "            nn.ConvTranspose2d(64, 16, 4, 2, 1),\n",
    "            nn.ReLU(),\n",
    "            nn.ConvTranspose2d(16, input_features, 4, 2, 1),\n",
    "            nn.Sigmoid()\n",
    "        )\n",
    "\n",
    "        self.init_weights(self.encoder)\n",
    "        self.init_weights(self.decoder)\n",
    "\n",
    "    def init_weights(self, m):\n",
    "        if isinstance(m, nn.Linear):\n",
    "            nn.init.xavier_uniform_(m.weight)\n",
    "            m.bias.data.fill_(0.01)\n",
    "\n",
    "    def forward(self, x):\n",
    "        encoded = self.encoder(x)\n",
    "        decoded = self.decoder(encoded)\n",
    "        return decoded\n",
    "\n",
    "model = BuildCAE(input_features=1).to(device)\n",
    "criterion = nn.MSELoss()\n",
    "optimizer = optim.Adam(model.parameters(), lr = 0.0001)"
   ]
  },
  {
   "cell_type": "code",
   "execution_count": 4,
   "metadata": {},
   "outputs": [
    {
     "name": "stderr",
     "output_type": "stream",
     "text": [
      "[1/10]: 100%|██████████| 235/235 [00:03<00:00, 70.02it/s, loss=0.070]\n",
      "[1/10]: 100%|██████████| 40/40 [00:00<00:00, 72.83it/s, val_loss=0.070]\n"
     ]
    },
    {
     "name": "stdout",
     "output_type": "stream",
     "text": [
      "Epoch : 1, Loss : 0.152, Val Loss : 0.070\n"
     ]
    },
    {
     "name": "stderr",
     "output_type": "stream",
     "text": [
      "[2/10]: 100%|██████████| 235/235 [00:02<00:00, 80.31it/s, loss=0.027]\n",
      "[2/10]: 100%|██████████| 40/40 [00:00<00:00, 72.25it/s, val_loss=0.026]\n"
     ]
    },
    {
     "name": "stdout",
     "output_type": "stream",
     "text": [
      "Epoch : 2, Loss : 0.042, Val Loss : 0.026\n"
     ]
    },
    {
     "name": "stderr",
     "output_type": "stream",
     "text": [
      "[3/10]: 100%|██████████| 235/235 [00:02<00:00, 91.58it/s, loss=0.016] \n",
      "[3/10]: 100%|██████████| 40/40 [00:00<00:00, 75.36it/s, val_loss=0.016]\n"
     ]
    },
    {
     "name": "stdout",
     "output_type": "stream",
     "text": [
      "Epoch : 3, Loss : 0.020, Val Loss : 0.016\n"
     ]
    },
    {
     "name": "stderr",
     "output_type": "stream",
     "text": [
      "[4/10]: 100%|██████████| 235/235 [00:02<00:00, 81.06it/s, loss=0.011]\n",
      "[4/10]: 100%|██████████| 40/40 [00:00<00:00, 77.57it/s, val_loss=0.012] \n"
     ]
    },
    {
     "name": "stdout",
     "output_type": "stream",
     "text": [
      "Epoch : 4, Loss : 0.014, Val Loss : 0.012\n"
     ]
    },
    {
     "name": "stderr",
     "output_type": "stream",
     "text": [
      "[5/10]: 100%|██████████| 235/235 [00:02<00:00, 82.72it/s, loss=0.010]\n",
      "[5/10]: 100%|██████████| 40/40 [00:00<00:00, 67.71it/s, val_loss=0.009]\n"
     ]
    },
    {
     "name": "stdout",
     "output_type": "stream",
     "text": [
      "Epoch : 5, Loss : 0.011, Val Loss : 0.009\n"
     ]
    },
    {
     "name": "stderr",
     "output_type": "stream",
     "text": [
      "[6/10]: 100%|██████████| 235/235 [00:02<00:00, 85.07it/s, loss=0.008]\n",
      "[6/10]: 100%|██████████| 40/40 [00:00<00:00, 65.45it/s, val_loss=0.008]\n"
     ]
    },
    {
     "name": "stdout",
     "output_type": "stream",
     "text": [
      "Epoch : 6, Loss : 0.009, Val Loss : 0.008\n"
     ]
    },
    {
     "name": "stderr",
     "output_type": "stream",
     "text": [
      "[7/10]: 100%|██████████| 235/235 [00:02<00:00, 81.96it/s, loss=0.007]\n",
      "[7/10]: 100%|██████████| 40/40 [00:00<00:00, 76.65it/s, val_loss=0.007]\n"
     ]
    },
    {
     "name": "stdout",
     "output_type": "stream",
     "text": [
      "Epoch : 7, Loss : 0.008, Val Loss : 0.007\n"
     ]
    },
    {
     "name": "stderr",
     "output_type": "stream",
     "text": [
      "[8/10]: 100%|██████████| 235/235 [00:02<00:00, 83.71it/s, loss=0.006]\n",
      "[8/10]: 100%|██████████| 40/40 [00:00<00:00, 75.60it/s, val_loss=0.006]\n"
     ]
    },
    {
     "name": "stdout",
     "output_type": "stream",
     "text": [
      "Epoch : 8, Loss : 0.007, Val Loss : 0.006\n"
     ]
    },
    {
     "name": "stderr",
     "output_type": "stream",
     "text": [
      "[9/10]: 100%|██████████| 235/235 [00:02<00:00, 81.80it/s, loss=0.005]\n",
      "[9/10]: 100%|██████████| 40/40 [00:00<00:00, 75.30it/s, val_loss=0.005]\n"
     ]
    },
    {
     "name": "stdout",
     "output_type": "stream",
     "text": [
      "Epoch : 9, Loss : 0.006, Val Loss : 0.005\n"
     ]
    },
    {
     "name": "stderr",
     "output_type": "stream",
     "text": [
      "[10/10]: 100%|██████████| 235/235 [00:02<00:00, 83.64it/s, loss=0.005]\n",
      "[10/10]: 100%|██████████| 40/40 [00:00<00:00, 71.11it/s, val_loss=0.005]"
     ]
    },
    {
     "name": "stdout",
     "output_type": "stream",
     "text": [
      "Epoch : 10, Loss : 0.005, Val Loss : 0.005\n",
      "Training Done !\n"
     ]
    },
    {
     "name": "stderr",
     "output_type": "stream",
     "text": [
      "\n"
     ]
    }
   ],
   "source": [
    "for epoch in range(epochs):\n",
    "    model.train()\n",
    "    avg_loss = 0\n",
    "    \n",
    "    with tqdm(total=len(train_loader)) as t:\n",
    "        t.set_description(f'[{epoch+1}/{epochs}]')\n",
    "        for i, (batch_img, batch_lab) in enumerate(train_loader):\n",
    "            \n",
    "            X = batch_img.to(device)\n",
    "            \n",
    "            optimizer.zero_grad()\n",
    "            y_pred = model.forward(X)\n",
    "            loss = criterion(y_pred, X)\n",
    "            \n",
    "            loss.backward()\n",
    "            optimizer.step()\n",
    "            avg_loss += loss.item()\n",
    "            \n",
    "            t.set_postfix({\"loss\": f\"{loss.item():05.3f}\"})\n",
    "            t.update()\n",
    "\n",
    "    model.eval()\n",
    "    with tqdm(total=len(val_loader)) as t:\n",
    "        t.set_description(f'[{epoch+1}/{epochs}]')\n",
    "        with torch.no_grad():\n",
    "            val_loss = 0\n",
    "            for i, (batch_img, batch_lab) in enumerate(val_loader):\n",
    "                \n",
    "                X = batch_img.to(device)\n",
    "                \n",
    "                y_pred = model(X)\n",
    "                val_loss += criterion(y_pred, X)\n",
    "                t.set_postfix({\"val_loss\": f\"{val_loss.item()/(i+1):05.3f}\"})\n",
    "                t.update()\n",
    "\n",
    "            val_loss /= len(val_loader)\n",
    "            \n",
    "    print(f\"Epoch : {epoch+1}, Loss : {(avg_loss/len(train_loader)):.3f}, Val Loss : {val_loss.item():.3f}\")\n",
    "\n",
    "print(\"Training Done !\")"
   ]
  },
  {
   "cell_type": "code",
   "execution_count": 5,
   "metadata": {},
   "outputs": [
    {
     "data": {
      "image/png": "[encoded data removed]",
      "text/plain": [
       "<Figure size 1152x432 with 16 Axes>"
      ]
     },
     "metadata": {
      "needs_background": "light"
     },
     "output_type": "display_data"
    }
   ],
   "source": [
    "# Sample\n",
    "for images, labels in val_loader:\n",
    "    break\n",
    "\n",
    "num_sample = 8\n",
    "num_sample = num_sample if num_sample < batch_size else batch_size\n",
    "col = num_sample\n",
    "row = 3\n",
    "\n",
    "sample_image = images[:num_sample].to(device)\n",
    "prediction = model(sample_image).cpu().detach()\n",
    "\n",
    "plt.figure(figsize=(col*2, row*2))\n",
    "\n",
    "for i in range(num_sample):\n",
    "    # 1st row: Input image \n",
    "    plt.subplot(row, col, i+1)\n",
    "    plt.imshow(sample_image[i].squeeze().cpu(), cmap=\"gray\")\n",
    "    plt.axis(\"off\")\n",
    "    \n",
    "    # 2nd row: Predicted image\n",
    "    plt.subplot(row, col, (i+1)+num_sample*2)\n",
    "    plt.imshow(prediction[i].squeeze().cpu(), cmap=\"gray\")\n",
    "    plt.axis(\"off\")\n",
    "plt.tight_layout()\n",
    "plt.show()"
   ]
  }
 ],
 "metadata": {
  "interpreter": {
   "hash": "e272e1fa0d2962f9b40773bcc4be9415f12c8080e9dd32a48a7e1d33b6939010"
  },
  "kernelspec": {
   "display_name": "Python 3.8.12 ('torch')",
   "language": "python",
   "name": "python3"
  },
  "language_info": {
   "codemirror_mode": {
    "name": "ipython",
    "version": 3
   },
   "file_extension": ".py",
   "mimetype": "text/x-python",
   "name": "python",
   "nbconvert_exporter": "python",
   "pygments_lexer": "ipython3",
   "version": "3.7.10"
  },
  "orig_nbformat": 4
 },
 "nbformat": 4,
 "nbformat_minor": 2
}
